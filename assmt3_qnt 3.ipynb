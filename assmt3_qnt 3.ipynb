{
 "cells": [
  {
   "cell_type": "raw",
   "id": "1971cf92",
   "metadata": {},
   "source": [
    "### Write a Python function that accepts a string and calculate the number of upper case letters and lower case letters.\n",
    "\n",
    "Sample String : 'The quick Brow Fox'\n",
    "\n",
    "Expected Output :\n",
    "\n",
    "No. of Upper case characters : 3\n",
    "\n",
    "No. of Lower case Characters : 12"
   ]
  },
  {
   "cell_type": "code",
   "execution_count": 1,
   "id": "b8802817",
   "metadata": {},
   "outputs": [
    {
     "name": "stdout",
     "output_type": "stream",
     "text": [
      "Enter the Character for count: mY Name ANkit\n",
      "NO. of upper case characters :4 \n",
      "No. of lower case characters :7\n"
     ]
    }
   ],
   "source": [
    "def count_case_chr(string):\n",
    "    count_u=0\n",
    "    count_l=0\n",
    "    for char in string:\n",
    "        if char.isupper():\n",
    "            count_u+=1\n",
    "        elif char.islower():\n",
    "            count_l+=1\n",
    "    print(\"NO. of upper case characters :{} \\nNo. of lower case characters :{}\".format(count_u,count_l))     \n",
    "    \n",
    "string=input(\"Enter the Character for count: \")\n",
    "\n",
    "count_case_chr(string)\n",
    "        "
   ]
  },
  {
   "cell_type": "code",
   "execution_count": null,
   "id": "7bf34eca",
   "metadata": {},
   "outputs": [],
   "source": []
  }
 ],
 "metadata": {
  "kernelspec": {
   "display_name": "Python 3 (ipykernel)",
   "language": "python",
   "name": "python3"
  },
  "language_info": {
   "codemirror_mode": {
    "name": "ipython",
    "version": 3
   },
   "file_extension": ".py",
   "mimetype": "text/x-python",
   "name": "python",
   "nbconvert_exporter": "python",
   "pygments_lexer": "ipython3",
   "version": "3.10.9"
  }
 },
 "nbformat": 4,
 "nbformat_minor": 5
}
